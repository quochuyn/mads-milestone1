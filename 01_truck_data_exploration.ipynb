{
 "cells": [
  {
   "attachments": {},
   "cell_type": "markdown",
   "metadata": {},
   "source": [
    "## Introduction\n",
    "\n",
    "The primary dataset comes from the USDA/AMS/Market News/Specialty Crops Program [refrigerated truck volume data](https://agtransport.usda.gov/Truck/Refrigerated-Truck-Volumes/rfpn-7etz) on various staple fruits and vegetables within California. Some of the data collection methods used include Federal marketing orders, telephone interviews, faxes, emails, and access to other data sources. The rows of the dataset show aggregated truck volume by commodity on a daily basis. The features of the dataset include datetime-related columns, origin, destination, commodity, and volume.\n",
    "\n",
    "This notebook (1/3) explores the refrigerated truck volume data set."
   ]
  },
  {
   "cell_type": "markdown",
   "metadata": {},
   "source": [
    "First, we must install additional packages if not already. We follow Jake Vanderplas's [advice](https://jakevdp.github.io/blog/2017/12/05/installing-python-packages-from-jupyter/) on installing packages within notebooks."
   ]
  },
  {
   "cell_type": "code",
   "execution_count": 1,
   "metadata": {},
   "outputs": [
    {
     "name": "stdout",
     "output_type": "stream",
     "text": [
      "Requirement already satisfied: plotly-express in c:\\users\\mrquo\\anaconda3\\envs\\geo\\lib\\site-packages (0.4.1)\n",
      "Requirement already satisfied: pandas>=0.20.0 in c:\\users\\mrquo\\anaconda3\\envs\\geo\\lib\\site-packages (from plotly-express) (1.4.3)\n",
      "Requirement already satisfied: scipy>=0.18 in c:\\users\\mrquo\\anaconda3\\envs\\geo\\lib\\site-packages (from plotly-express) (1.10.0)\n",
      "Requirement already satisfied: numpy>=1.11 in c:\\users\\mrquo\\anaconda3\\envs\\geo\\lib\\site-packages (from plotly-express) (1.21.5)\n",
      "Requirement already satisfied: patsy>=0.5 in c:\\users\\mrquo\\anaconda3\\envs\\geo\\lib\\site-packages (from plotly-express) (0.5.3)\n",
      "Requirement already satisfied: plotly>=4.1.0 in c:\\users\\mrquo\\anaconda3\\envs\\geo\\lib\\site-packages (from plotly-express) (5.13.0)\n",
      "Requirement already satisfied: statsmodels>=0.9.0 in c:\\users\\mrquo\\anaconda3\\envs\\geo\\lib\\site-packages (from plotly-express) (0.13.5)\n",
      "Requirement already satisfied: pytz>=2020.1 in c:\\users\\mrquo\\anaconda3\\envs\\geo\\lib\\site-packages (from pandas>=0.20.0->plotly-express) (2022.1)\n",
      "Requirement already satisfied: python-dateutil>=2.8.1 in c:\\users\\mrquo\\anaconda3\\envs\\geo\\lib\\site-packages (from pandas>=0.20.0->plotly-express) (2.8.2)\n",
      "Requirement already satisfied: six in c:\\users\\mrquo\\anaconda3\\envs\\geo\\lib\\site-packages (from patsy>=0.5->plotly-express) (1.16.0)\n",
      "Requirement already satisfied: tenacity>=6.2.0 in c:\\users\\mrquo\\anaconda3\\envs\\geo\\lib\\site-packages (from plotly>=4.1.0->plotly-express) (8.2.1)\n",
      "Requirement already satisfied: packaging>=21.3 in c:\\users\\mrquo\\anaconda3\\envs\\geo\\lib\\site-packages (from statsmodels>=0.9.0->plotly-express) (21.3)\n",
      "Requirement already satisfied: pyparsing!=3.0.5,>=2.0.2 in c:\\users\\mrquo\\anaconda3\\envs\\geo\\lib\\site-packages (from packaging>=21.3->statsmodels>=0.9.0->plotly-express) (3.0.4)\n"
     ]
    }
   ],
   "source": [
    "import sys\n",
    "!{sys.executable} -m pip install plotly-express"
   ]
  },
  {
   "cell_type": "code",
   "execution_count": 2,
   "metadata": {},
   "outputs": [],
   "source": [
    "# import data science packages\n",
    "import numpy as np\n",
    "import pandas as pd\n",
    "\n",
    "# import visualization packages\n",
    "import matplotlib.pyplot as plt\n",
    "import plotly.express as px\n",
    "from plotly.subplots import make_subplots\n",
    "\n",
    "# import custom packages\n",
    "import datasets\n",
    "import utils"
   ]
  },
  {
   "attachments": {},
   "cell_type": "markdown",
   "metadata": {},
   "source": [
    "## Importing Truck Data\n",
    "\n",
    "We take the liberty of modularizing some methods to reduce redundant code. One such example is the importing and cleaning of the refrigerated truck volume data set. Some of the cleaning steps include:\n",
    "- Aggregating some rows due to unnecessary columns. Some rows for truck volume may be assigned to different commodity marketing seasons indicated by the `Season` column, but otherwise are complete duplicates. For our analysis, we disregard this fact because we are more interested in the `date` of the movement.\n",
    "- Keeping only important columns. There are extra columns relating to the date.\n",
    "- Removing rows with none/useless information. Particularly, rows that have a value of 0 for the `10,000 LBS` column are removed. This is because the columns is encoded as an integer value. Therefore, truck volumes below the 10,000 lbs threshold with just have a value of 0.\n",
    "- Casting the data type of the `date` column to be a datetime type."
   ]
  },
  {
   "cell_type": "code",
   "execution_count": 3,
   "metadata": {},
   "outputs": [
    {
     "name": "stdout",
     "output_type": "stream",
     "text": [
      "The file 'data\\Refrigerated_Truck_Volumes_2015.csv' contains 114836 rows and 14 columns.\n",
      "The file 'data\\Refrigerated_Truck_Volumes_2016.csv' contains 115813 rows and 14 columns.\n",
      "The file 'data\\Refrigerated_Truck_Volumes_2017.csv' contains 115112 rows and 14 columns.\n",
      "The file 'data\\Refrigerated_Truck_Volumes_2018.csv' contains 116071 rows and 14 columns.\n",
      "The file 'data\\Refrigerated_Truck_Volumes_2019.csv' contains 121176 rows and 14 columns.\n",
      "The file 'data\\Refrigerated_Truck_Volumes_2020.csv' contains 129428 rows and 14 columns.\n",
      "The file 'data\\Refrigerated_Truck_Volumes_2021.csv' contains 140029 rows and 14 columns.\n",
      "The file 'data\\Refrigerated_Truck_Volumes_2022.csv' contains 137708 rows and 14 columns.\n",
      "The full data frame contains 990173 rows and 14 columns.\n",
      "The cleaned data frame contains 856759 rows and 9 columns.\n"
     ]
    }
   ],
   "source": [
    "truck_df = datasets.load_truck_data(start=2015, end=2022, trace=True)"
   ]
  },
  {
   "cell_type": "code",
   "execution_count": 4,
   "metadata": {},
   "outputs": [
    {
     "name": "stdout",
     "output_type": "stream",
     "text": [
      "The column `date` has 2922 unique values.\n",
      "The column `Month` has 12 unique values.\n",
      "The column `Year` has 8 unique values.\n",
      "The column `Mode` has 2 unique values.\n",
      "The column `Region` has 17 unique values.\n",
      "The column `Origin` has 42 unique values.\n",
      "The column `District` has 135 unique values.\n",
      "The column `Commodity` has 133 unique values.\n",
      "The column `10,000 LBS` has 2555 unique values.\n"
     ]
    }
   ],
   "source": [
    "# check the number of unique values for each column\n",
    "for col in truck_df.columns:\n",
    "    print(f\"The column `{col}` has {len(truck_df[col].unique())} unique values.\")"
   ]
  },
  {
   "attachments": {},
   "cell_type": "markdown",
   "metadata": {},
   "source": [
    "We decide to aggregate the data frame on a monthly basis for easier viewing. We can immediately group by the month, but we created a custom function for aggregating based on any datetime frequency. Later on, we also decide to aggregate on a weekly basis which is only achieved with our custom function."
   ]
  },
  {
   "cell_type": "code",
   "execution_count": 5,
   "metadata": {},
   "outputs": [],
   "source": [
    "# aggregate every month\n",
    "monthly_truck_df = datasets.aggregate_truck_df(truck_df, rule='1M', trace=True)"
   ]
  },
  {
   "attachments": {},
   "cell_type": "markdown",
   "metadata": {},
   "source": [
    "## Choropleth Map Visualization\n",
    "\n",
    "A choropleth map is a visualization technique that showcases a value to be observed across certain regions (e.g., countries, US states, etc.). The choice of region type defines its geometric shape and, thus, the boundaries between the regions. The value of interest is encoded onto a color scale. We decide to use [Plotly Express](https://plotly.com/python/plotly-express/) for an easier time with creating the choropleth map."
   ]
  },
  {
   "cell_type": "code",
   "execution_count": 6,
   "metadata": {},
   "outputs": [
    {
     "data": {
      "text/plain": [
       "array(['Canada', 'Other', 'Arizona', 'California', 'Colorado', 'Florida',\n",
       "       'Great Lakes', 'Mexico-Arizona', 'Mexico-California',\n",
       "       'Mexico-NewMexico', 'Mexico-Texas', 'Midatlantic', 'New York',\n",
       "       'PNW', 'Southeast', 'Texas', 'Indiana'], dtype=object)"
      ]
     },
     "execution_count": 6,
     "metadata": {},
     "output_type": "execute_result"
    }
   ],
   "source": [
    "# check the unique values for `Region`\n",
    "monthly_truck_df['Region'].unique()"
   ]
  },
  {
   "attachments": {},
   "cell_type": "markdown",
   "metadata": {},
   "source": [
    "Looking at the unique values for the `Region` column, we find that not all regions are US states. We would have to modify the geometric shapes for the US states and conform them into the new regions. This is out of scope for this project. Therefore, we only choose to look at those regions that are specifically a single US state."
   ]
  },
  {
   "cell_type": "code",
   "execution_count": 7,
   "metadata": {},
   "outputs": [],
   "source": [
    "# Plotly Express requires the state abbreviation code to enable the US states mapping type\n",
    "monthly_truck_df.loc[:,'state_code'] = monthly_truck_df['Region'].apply(utils.map_to_state_code)\n",
    "\n",
    "# for this visualization, we are going to change `date` back to string type as it produces errors\n",
    "monthly_truck_df.loc[:,'date'] = monthly_truck_df['date'].dt.date.astype(str)"
   ]
  },
  {
   "attachments": {},
   "cell_type": "markdown",
   "metadata": {},
   "source": [
    "We will actually be creating a small multiples visualization of choropleth maps. Doing so, will allow us to observe trends/patterns of the refrigerated truck volumes over time with a single glance. According to the [documentation](https://plotly.com/python/subplots/), Plotly Express does not support customizable subplots. Fortunately, a workaround was inspired by the [Stack Overflow](https://stackoverflow.com/questions/56727843/how-can-i-create-subplots-with-plotly-express) post to...\n",
    "1. create the figures\n",
    "2. break apart each figure into its `data` attribute\n",
    "3. re-assemble into its individual slot in the subplot grid\n"
   ]
  },
  {
   "cell_type": "code",
   "execution_count": 8,
   "metadata": {},
   "outputs": [
    {
     "data": {
      "application/vnd.plotly.v1+json": {
       "config": {
        "plotlyServerURL": "https://plot.ly"
       },
       "data": [
        {
         "coloraxis": "coloraxis",
         "geo": "geo",
         "hovertemplate": "state_code=%{location}<br>10,000 LBS=%{z}<extra></extra>",
         "locationmode": "USA-states",
         "locations": [
          "AZ",
          "CA",
          "CO",
          "FL",
          "NY",
          "TX"
         ],
         "name": "",
         "type": "choropleth",
         "z": [
          57113,
          38792,
          16818,
          66601,
          9947,
          13305
         ]
        },
        {
         "coloraxis": "coloraxis",
         "geo": "geo2",
         "hovertemplate": "state_code=%{location}<br>10,000 LBS=%{z}<extra></extra>",
         "locationmode": "USA-states",
         "locations": [
          "AZ",
          "CA",
          "CO",
          "FL",
          "NY",
          "TX"
         ],
         "name": "",
         "type": "choropleth",
         "z": [
          53176,
          72583,
          13952,
          73919,
          7816,
          10264
         ]
        },
        {
         "coloraxis": "coloraxis",
         "geo": "geo3",
         "hovertemplate": "state_code=%{location}<br>10,000 LBS=%{z}<extra></extra>",
         "locationmode": "USA-states",
         "locations": [
          "AZ",
          "CA",
          "CO",
          "FL",
          "NY",
          "TX"
         ],
         "name": "",
         "type": "choropleth",
         "z": [
          13527,
          163960,
          10846,
          117332,
          3260,
          12296
         ]
        },
        {
         "coloraxis": "coloraxis",
         "geo": "geo4",
         "hovertemplate": "state_code=%{location}<br>10,000 LBS=%{z}<extra></extra>",
         "locationmode": "USA-states",
         "locations": [
          "AZ",
          "CA",
          "CO",
          "FL",
          "IN",
          "NY",
          "TX"
         ],
         "name": "",
         "type": "choropleth",
         "z": [
          6941,
          225084,
          10904,
          2713,
          11490,
          3055,
          10467
         ]
        },
        {
         "coloraxis": "coloraxis",
         "geo": "geo5",
         "hovertemplate": "state_code=%{location}<br>10,000 LBS=%{z}<extra></extra>",
         "locationmode": "USA-states",
         "locations": [
          "AZ",
          "CA",
          "CO",
          "FL",
          "IN",
          "NY",
          "TX"
         ],
         "name": "",
         "type": "choropleth",
         "z": [
          858,
          182998,
          13952,
          2126,
          4576,
          11569,
          13208
         ]
        },
        {
         "coloraxis": "coloraxis",
         "geo": "geo6",
         "hovertemplate": "state_code=%{location}<br>10,000 LBS=%{z}<extra></extra>",
         "locationmode": "USA-states",
         "locations": [
          "AZ",
          "CA",
          "CO",
          "FL",
          "NY",
          "TX"
         ],
         "name": "",
         "type": "choropleth",
         "z": [
          38686,
          76963,
          18903,
          45330,
          10814,
          8583
         ]
        },
        {
         "coloraxis": "coloraxis",
         "geo": "geo7",
         "hovertemplate": "state_code=%{location}<br>10,000 LBS=%{z}<extra></extra>",
         "locationmode": "USA-states",
         "locations": [
          "AZ",
          "CA",
          "CO",
          "FL",
          "NY",
          "TX"
         ],
         "name": "",
         "type": "choropleth",
         "z": [
          52953,
          35587,
          16048,
          40407,
          10042,
          10091
         ]
        },
        {
         "coloraxis": "coloraxis",
         "geo": "geo8",
         "hovertemplate": "state_code=%{location}<br>10,000 LBS=%{z}<extra></extra>",
         "locationmode": "USA-states",
         "locations": [
          "AZ",
          "CA",
          "CO",
          "FL",
          "NY",
          "TX"
         ],
         "name": "",
         "type": "choropleth",
         "z": [
          60924,
          60320,
          12729,
          53999,
          6366,
          9323
         ]
        },
        {
         "coloraxis": "coloraxis",
         "geo": "geo9",
         "hovertemplate": "state_code=%{location}<br>10,000 LBS=%{z}<extra></extra>",
         "locationmode": "USA-states",
         "locations": [
          "AZ",
          "CA",
          "CO",
          "FL",
          "NY",
          "TX"
         ],
         "name": "",
         "type": "choropleth",
         "z": [
          13448,
          179069,
          10505,
          104163,
          2140,
          23213
         ]
        },
        {
         "coloraxis": "coloraxis",
         "geo": "geo10",
         "hovertemplate": "state_code=%{location}<br>10,000 LBS=%{z}<extra></extra>",
         "locationmode": "USA-states",
         "locations": [
          "AZ",
          "CA",
          "CO",
          "FL",
          "IN",
          "NY",
          "TX"
         ],
         "name": "",
         "type": "choropleth",
         "z": [
          5795,
          230292,
          8664,
          1549,
          13249,
          1690,
          14881
         ]
        },
        {
         "coloraxis": "coloraxis",
         "geo": "geo11",
         "hovertemplate": "state_code=%{location}<br>10,000 LBS=%{z}<extra></extra>",
         "locationmode": "USA-states",
         "locations": [
          "AZ",
          "CA",
          "CO",
          "FL",
          "IN",
          "NY",
          "TX"
         ],
         "name": "",
         "type": "choropleth",
         "z": [
          195,
          194243,
          14361,
          1958,
          5389,
          9634,
          9715
         ]
        },
        {
         "coloraxis": "coloraxis",
         "geo": "geo12",
         "hovertemplate": "state_code=%{location}<br>10,000 LBS=%{z}<extra></extra>",
         "locationmode": "USA-states",
         "locations": [
          "AZ",
          "CA",
          "CO",
          "FL",
          "NY",
          "TX"
         ],
         "name": "",
         "type": "choropleth",
         "z": [
          35243,
          99346,
          17088,
          37370,
          9080,
          9869
         ]
        },
        {
         "coloraxis": "coloraxis",
         "geo": "geo13",
         "hovertemplate": "state_code=%{location}<br>10,000 LBS=%{z}<extra></extra>",
         "locationmode": "USA-states",
         "locations": [
          "AZ",
          "CA",
          "CO",
          "FL",
          "NY",
          "TX"
         ],
         "name": "",
         "type": "choropleth",
         "z": [
          53323,
          36276,
          14806,
          51379,
          7444,
          10541
         ]
        },
        {
         "coloraxis": "coloraxis",
         "geo": "geo14",
         "hovertemplate": "state_code=%{location}<br>10,000 LBS=%{z}<extra></extra>",
         "locationmode": "USA-states",
         "locations": [
          "AZ",
          "CA",
          "CO",
          "FL",
          "NY",
          "TX"
         ],
         "name": "",
         "type": "choropleth",
         "z": [
          53681,
          45226,
          12280,
          66748,
          5829,
          13393
         ]
        },
        {
         "coloraxis": "coloraxis",
         "geo": "geo15",
         "hovertemplate": "state_code=%{location}<br>10,000 LBS=%{z}<extra></extra>",
         "locationmode": "USA-states",
         "locations": [
          "AZ",
          "CA",
          "CO",
          "FL",
          "NY",
          "TX"
         ],
         "name": "",
         "type": "choropleth",
         "z": [
          13174,
          166350,
          10827,
          94871,
          1628,
          24052
         ]
        },
        {
         "coloraxis": "coloraxis",
         "geo": "geo16",
         "hovertemplate": "state_code=%{location}<br>10,000 LBS=%{z}<extra></extra>",
         "locationmode": "USA-states",
         "locations": [
          "AZ",
          "CA",
          "CO",
          "FL",
          "IN",
          "NY",
          "TX"
         ],
         "name": "",
         "type": "choropleth",
         "z": [
          4731,
          217226,
          9531,
          1792,
          16544,
          1134,
          15863
         ]
        },
        {
         "coloraxis": "coloraxis",
         "geo": "geo17",
         "hovertemplate": "state_code=%{location}<br>10,000 LBS=%{z}<extra></extra>",
         "locationmode": "USA-states",
         "locations": [
          "AZ",
          "CA",
          "CO",
          "FL",
          "IN",
          "NY",
          "TX"
         ],
         "name": "",
         "type": "choropleth",
         "z": [
          720,
          178217,
          16438,
          876,
          3570,
          12469,
          7175
         ]
        },
        {
         "coloraxis": "coloraxis",
         "geo": "geo18",
         "hovertemplate": "state_code=%{location}<br>10,000 LBS=%{z}<extra></extra>",
         "locationmode": "USA-states",
         "locations": [
          "AZ",
          "CA",
          "CO",
          "FL",
          "NY",
          "TX"
         ],
         "name": "",
         "type": "choropleth",
         "z": [
          28691,
          132280,
          17353,
          19056,
          9732,
          8322
         ]
        },
        {
         "coloraxis": "coloraxis",
         "geo": "geo19",
         "hovertemplate": "state_code=%{location}<br>10,000 LBS=%{z}<extra></extra>",
         "locationmode": "USA-states",
         "locations": [
          "AZ",
          "CA",
          "CO",
          "FL",
          "NY",
          "TX"
         ],
         "name": "",
         "type": "choropleth",
         "z": [
          50193,
          123939,
          13249,
          41368,
          9124,
          10117
         ]
        },
        {
         "coloraxis": "coloraxis",
         "geo": "geo20",
         "hovertemplate": "state_code=%{location}<br>10,000 LBS=%{z}<extra></extra>",
         "locationmode": "USA-states",
         "locations": [
          "AZ",
          "CA",
          "CO",
          "FL",
          "NY",
          "TX"
         ],
         "name": "",
         "type": "choropleth",
         "z": [
          50207,
          147661,
          12941,
          55559,
          7464,
          10063
         ]
        },
        {
         "coloraxis": "coloraxis",
         "geo": "geo21",
         "hovertemplate": "state_code=%{location}<br>10,000 LBS=%{z}<extra></extra>",
         "locationmode": "USA-states",
         "locations": [
          "AZ",
          "CA",
          "CO",
          "FL",
          "NY",
          "TX"
         ],
         "name": "",
         "type": "choropleth",
         "z": [
          9832,
          237410,
          9650,
          92148,
          2242,
          31237
         ]
        },
        {
         "coloraxis": "coloraxis",
         "geo": "geo22",
         "hovertemplate": "state_code=%{location}<br>10,000 LBS=%{z}<extra></extra>",
         "locationmode": "USA-states",
         "locations": [
          "AZ",
          "CA",
          "CO",
          "FL",
          "IN",
          "NY",
          "TX"
         ],
         "name": "",
         "type": "choropleth",
         "z": [
          6525,
          244490,
          8360,
          2028,
          16183,
          2219,
          14682
         ]
        },
        {
         "coloraxis": "coloraxis",
         "geo": "geo23",
         "hovertemplate": "state_code=%{location}<br>10,000 LBS=%{z}<extra></extra>",
         "locationmode": "USA-states",
         "locations": [
          "CA",
          "CO",
          "FL",
          "IN",
          "NY",
          "TX"
         ],
         "name": "",
         "type": "choropleth",
         "z": [
          220910,
          13365,
          1189,
          5337,
          9740,
          8103
         ]
        },
        {
         "coloraxis": "coloraxis",
         "geo": "geo24",
         "hovertemplate": "state_code=%{location}<br>10,000 LBS=%{z}<extra></extra>",
         "locationmode": "USA-states",
         "locations": [
          "AZ",
          "CA",
          "CO",
          "FL",
          "NY",
          "TX"
         ],
         "name": "",
         "type": "choropleth",
         "z": [
          32498,
          148406,
          17871,
          30033,
          9262,
          7060
         ]
        },
        {
         "coloraxis": "coloraxis",
         "geo": "geo25",
         "hovertemplate": "state_code=%{location}<br>10,000 LBS=%{z}<extra></extra>",
         "locationmode": "USA-states",
         "locations": [
          "AZ",
          "CA",
          "CO",
          "FL",
          "NY",
          "TX"
         ],
         "name": "",
         "type": "choropleth",
         "z": [
          56906,
          146134,
          14247,
          40391,
          7204,
          9353
         ]
        },
        {
         "coloraxis": "coloraxis",
         "geo": "geo26",
         "hovertemplate": "state_code=%{location}<br>10,000 LBS=%{z}<extra></extra>",
         "locationmode": "USA-states",
         "locations": [
          "AZ",
          "CA",
          "CO",
          "FL",
          "NY",
          "TX"
         ],
         "name": "",
         "type": "choropleth",
         "z": [
          60275,
          149136,
          12396,
          54775,
          4637,
          11705
         ]
        },
        {
         "coloraxis": "coloraxis",
         "geo": "geo27",
         "hovertemplate": "state_code=%{location}<br>10,000 LBS=%{z}<extra></extra>",
         "locationmode": "USA-states",
         "locations": [
          "AZ",
          "CA",
          "CO",
          "FL",
          "NY",
          "TX"
         ],
         "name": "",
         "type": "choropleth",
         "z": [
          6124,
          212396,
          13091,
          99406,
          2743,
          30087
         ]
        },
        {
         "coloraxis": "coloraxis",
         "geo": "geo28",
         "hovertemplate": "state_code=%{location}<br>10,000 LBS=%{z}<extra></extra>",
         "locationmode": "USA-states",
         "locations": [
          "AZ",
          "CA",
          "CO",
          "FL",
          "IN",
          "NY",
          "TX"
         ],
         "name": "",
         "type": "choropleth",
         "z": [
          6873,
          233890,
          13500,
          2037,
          7244,
          1958,
          15334
         ]
        },
        {
         "coloraxis": "coloraxis",
         "geo": "geo29",
         "hovertemplate": "state_code=%{location}<br>10,000 LBS=%{z}<extra></extra>",
         "locationmode": "USA-states",
         "locations": [
          "CA",
          "CO",
          "FL",
          "IN",
          "NY",
          "TX"
         ],
         "name": "",
         "type": "choropleth",
         "z": [
          200996,
          11810,
          1112,
          6995,
          9122,
          9573
         ]
        },
        {
         "coloraxis": "coloraxis",
         "geo": "geo30",
         "hovertemplate": "state_code=%{location}<br>10,000 LBS=%{z}<extra></extra>",
         "locationmode": "USA-states",
         "locations": [
          "AZ",
          "CA",
          "CO",
          "FL",
          "NY",
          "TX"
         ],
         "name": "",
         "type": "choropleth",
         "z": [
          27475,
          163144,
          17410,
          33830,
          10670,
          7326
         ]
        },
        {
         "coloraxis": "coloraxis",
         "geo": "geo31",
         "hovertemplate": "state_code=%{location}<br>10,000 LBS=%{z}<extra></extra>",
         "locationmode": "USA-states",
         "locations": [
          "AZ",
          "CA",
          "CO",
          "FL",
          "NY",
          "TX"
         ],
         "name": "",
         "type": "choropleth",
         "z": [
          53691,
          168918,
          13531,
          44983,
          8515,
          8659
         ]
        },
        {
         "coloraxis": "coloraxis",
         "geo": "geo32",
         "hovertemplate": "state_code=%{location}<br>10,000 LBS=%{z}<extra></extra>",
         "locationmode": "USA-states",
         "locations": [
          "AZ",
          "CA",
          "CO",
          "FL",
          "NY",
          "TX"
         ],
         "name": "",
         "type": "choropleth",
         "z": [
          47373,
          166116,
          17127,
          52797,
          4310,
          15986
         ]
        },
        {
         "coloraxis": "coloraxis",
         "geo": "geo33",
         "hovertemplate": "state_code=%{location}<br>10,000 LBS=%{z}<extra></extra>",
         "locationmode": "USA-states",
         "locations": [
          "AZ",
          "CA",
          "CO",
          "FL",
          "NY",
          "TX"
         ],
         "name": "",
         "type": "choropleth",
         "z": [
          7942,
          244241,
          9234,
          87472,
          2829,
          27289
         ]
        },
        {
         "coloraxis": "coloraxis",
         "geo": "geo34",
         "hovertemplate": "state_code=%{location}<br>10,000 LBS=%{z}<extra></extra>",
         "locationmode": "USA-states",
         "locations": [
          "AZ",
          "CA",
          "CO",
          "FL",
          "IN",
          "NY",
          "TX"
         ],
         "name": "",
         "type": "choropleth",
         "z": [
          3176,
          226399,
          8949,
          2124,
          14008,
          1502,
          14583
         ]
        },
        {
         "coloraxis": "coloraxis",
         "geo": "geo35",
         "hovertemplate": "state_code=%{location}<br>10,000 LBS=%{z}<extra></extra>",
         "locationmode": "USA-states",
         "locations": [
          "AZ",
          "CA",
          "CO",
          "FL",
          "IN",
          "NY",
          "TX"
         ],
         "name": "",
         "type": "choropleth",
         "z": [
          284,
          193553,
          14108,
          1328,
          9628,
          8513,
          8361
         ]
        },
        {
         "coloraxis": "coloraxis",
         "geo": "geo36",
         "hovertemplate": "state_code=%{location}<br>10,000 LBS=%{z}<extra></extra>",
         "locationmode": "USA-states",
         "locations": [
          "AZ",
          "CA",
          "CO",
          "FL",
          "NY",
          "TX"
         ],
         "name": "",
         "type": "choropleth",
         "z": [
          26310,
          149937,
          17794,
          23959,
          9509,
          8449
         ]
        },
        {
         "coloraxis": "coloraxis",
         "geo": "geo37",
         "hovertemplate": "state_code=%{location}<br>10,000 LBS=%{z}<extra></extra>",
         "locationmode": "USA-states",
         "locations": [
          "AZ",
          "CA",
          "CO",
          "FL",
          "NY",
          "TX"
         ],
         "name": "",
         "type": "choropleth",
         "z": [
          40638,
          149404,
          14919,
          31870,
          8022,
          10898
         ]
        },
        {
         "coloraxis": "coloraxis",
         "geo": "geo38",
         "hovertemplate": "state_code=%{location}<br>10,000 LBS=%{z}<extra></extra>",
         "locationmode": "USA-states",
         "locations": [
          "AZ",
          "CA",
          "CO",
          "FL",
          "NY",
          "TX"
         ],
         "name": "",
         "type": "choropleth",
         "z": [
          43061,
          158294,
          14334,
          55373,
          3430,
          5569
         ]
        },
        {
         "coloraxis": "coloraxis",
         "geo": "geo39",
         "hovertemplate": "state_code=%{location}<br>10,000 LBS=%{z}<extra></extra>",
         "locationmode": "USA-states",
         "locations": [
          "AZ",
          "CA",
          "CO",
          "FL",
          "NY",
          "TX"
         ],
         "name": "",
         "type": "choropleth",
         "z": [
          5459,
          243686,
          11080,
          93492,
          2835,
          11559
         ]
        },
        {
         "coloraxis": "coloraxis",
         "geo": "geo40",
         "hovertemplate": "state_code=%{location}<br>10,000 LBS=%{z}<extra></extra>",
         "locationmode": "USA-states",
         "locations": [
          "AZ",
          "CA",
          "CO",
          "FL",
          "IN",
          "NY",
          "TX"
         ],
         "name": "",
         "type": "choropleth",
         "z": [
          7883,
          221333,
          12263,
          2855,
          8515,
          2867,
          11018
         ]
        },
        {
         "coloraxis": "coloraxis",
         "geo": "geo41",
         "hovertemplate": "state_code=%{location}<br>10,000 LBS=%{z}<extra></extra>",
         "locationmode": "USA-states",
         "locations": [
          "AZ",
          "CA",
          "CO",
          "FL",
          "IN",
          "NY",
          "TX"
         ],
         "name": "",
         "type": "choropleth",
         "z": [
          39,
          200184,
          12087,
          895,
          10262,
          8690,
          10688
         ]
        },
        {
         "coloraxis": "coloraxis",
         "geo": "geo42",
         "hovertemplate": "state_code=%{location}<br>10,000 LBS=%{z}<extra></extra>",
         "locationmode": "USA-states",
         "locations": [
          "AZ",
          "CA",
          "CO",
          "FL",
          "NY",
          "TX"
         ],
         "name": "",
         "type": "choropleth",
         "z": [
          26285,
          142350,
          17545,
          25278,
          9837,
          6572
         ]
        },
        {
         "coloraxis": "coloraxis",
         "geo": "geo43",
         "hovertemplate": "state_code=%{location}<br>10,000 LBS=%{z}<extra></extra>",
         "locationmode": "USA-states",
         "locations": [
          "AZ",
          "CA",
          "CO",
          "FL",
          "NY",
          "TX"
         ],
         "name": "",
         "type": "choropleth",
         "z": [
          45812,
          93120,
          16017,
          39945,
          9448,
          8673
         ]
        },
        {
         "coloraxis": "coloraxis",
         "geo": "geo44",
         "hovertemplate": "state_code=%{location}<br>10,000 LBS=%{z}<extra></extra>",
         "locationmode": "USA-states",
         "locations": [
          "AZ",
          "CA",
          "CO",
          "FL",
          "NY",
          "TX"
         ],
         "name": "",
         "type": "choropleth",
         "z": [
          48324,
          101611,
          15215,
          52621,
          3852,
          8957
         ]
        },
        {
         "coloraxis": "coloraxis",
         "geo": "geo45",
         "hovertemplate": "state_code=%{location}<br>10,000 LBS=%{z}<extra></extra>",
         "locationmode": "USA-states",
         "locations": [
          "AZ",
          "CA",
          "CO",
          "FL",
          "NY",
          "TX"
         ],
         "name": "",
         "type": "choropleth",
         "z": [
          6451,
          203825,
          11467,
          91540,
          2295,
          12244
         ]
        },
        {
         "coloraxis": "coloraxis",
         "geo": "geo46",
         "hovertemplate": "state_code=%{location}<br>10,000 LBS=%{z}<extra></extra>",
         "locationmode": "USA-states",
         "locations": [
          "AZ",
          "CA",
          "CO",
          "FL",
          "IN",
          "NY",
          "TX"
         ],
         "name": "",
         "type": "choropleth",
         "z": [
          11479,
          199452,
          8294,
          2455,
          10535,
          1945,
          9804
         ]
        },
        {
         "coloraxis": "coloraxis",
         "geo": "geo47",
         "hovertemplate": "state_code=%{location}<br>10,000 LBS=%{z}<extra></extra>",
         "locationmode": "USA-states",
         "locations": [
          "CA",
          "CO",
          "FL",
          "IN",
          "NY",
          "TX"
         ],
         "name": "",
         "type": "choropleth",
         "z": [
          182843,
          14767,
          978,
          5253,
          6305,
          6679
         ]
        },
        {
         "coloraxis": "coloraxis",
         "geo": "geo48",
         "hovertemplate": "state_code=%{location}<br>10,000 LBS=%{z}<extra></extra>",
         "locationmode": "USA-states",
         "locations": [
          "AZ",
          "CA",
          "CO",
          "FL",
          "NY",
          "TX"
         ],
         "name": "",
         "type": "choropleth",
         "z": [
          30116,
          72931,
          17289,
          16424,
          8479,
          6922
         ]
        }
       ],
       "layout": {
        "annotations": [
         {
          "font": {
           "size": 16
          },
          "showarrow": false,
          "text": "2015",
          "textangle": -90,
          "x": 0.08125,
          "xanchor": "center",
          "xref": "paper",
          "xshift": -75,
          "y": 1,
          "yanchor": "bottom",
          "yref": "paper",
          "yshift": -60
         },
         {
          "font": {
           "size": 16
          },
          "showarrow": false,
          "text": "March",
          "x": 0.24875000000000003,
          "xanchor": "center",
          "xref": "paper",
          "y": 1,
          "yanchor": "bottom",
          "yref": "paper"
         },
         {
          "font": {
           "size": 16
          },
          "showarrow": false,
          "text": "May",
          "x": 0.41625,
          "xanchor": "center",
          "xref": "paper",
          "y": 1,
          "yanchor": "bottom",
          "yref": "paper"
         },
         {
          "font": {
           "size": 16
          },
          "showarrow": false,
          "text": "July",
          "x": 0.58375,
          "xanchor": "center",
          "xref": "paper",
          "y": 1,
          "yanchor": "bottom",
          "yref": "paper"
         },
         {
          "font": {
           "size": 16
          },
          "showarrow": false,
          "text": "September",
          "x": 0.75125,
          "xanchor": "center",
          "xref": "paper",
          "y": 1,
          "yanchor": "bottom",
          "yref": "paper"
         },
         {
          "font": {
           "size": 16
          },
          "showarrow": false,
          "text": "November",
          "x": 0.91875,
          "xanchor": "center",
          "xref": "paper",
          "y": 1,
          "yanchor": "bottom",
          "yref": "paper"
         },
         {
          "font": {
           "size": 16
          },
          "showarrow": false,
          "text": "2016",
          "textangle": -90,
          "x": 0.08125,
          "xanchor": "center",
          "xref": "paper",
          "xshift": -75,
          "y": 0.8748750000000001,
          "yanchor": "bottom",
          "yref": "paper",
          "yshift": -60
         },
         {
          "font": {
           "size": 16
          },
          "showarrow": false,
          "text": "January",
          "x": 0.24875000000000003,
          "xanchor": "center",
          "xref": "paper",
          "xshift": -132,
          "y": 0.8748750000000001,
          "yanchor": "bottom",
          "yref": "paper",
          "yshift": 78
         },
         {
          "font": {
           "size": 16
          },
          "showarrow": false,
          "text": "2017",
          "textangle": -90,
          "x": 0.08125,
          "xanchor": "center",
          "xref": "paper",
          "xshift": -75,
          "y": 0.74975,
          "yanchor": "bottom",
          "yref": "paper",
          "yshift": -60
         },
         {
          "font": {
           "size": 16
          },
          "showarrow": false,
          "text": "2018",
          "textangle": -90,
          "x": 0.08125,
          "xanchor": "center",
          "xref": "paper",
          "xshift": -75,
          "y": 0.624625,
          "yanchor": "bottom",
          "yref": "paper",
          "yshift": -60
         },
         {
          "font": {
           "size": 16
          },
          "showarrow": false,
          "text": "2019",
          "textangle": -90,
          "x": 0.08125,
          "xanchor": "center",
          "xref": "paper",
          "xshift": -75,
          "y": 0.4995,
          "yanchor": "bottom",
          "yref": "paper",
          "yshift": -60
         },
         {
          "font": {
           "size": 16
          },
          "showarrow": false,
          "text": "2020",
          "textangle": -90,
          "x": 0.08125,
          "xanchor": "center",
          "xref": "paper",
          "xshift": -75,
          "y": 0.37437499999999996,
          "yanchor": "bottom",
          "yref": "paper",
          "yshift": -60
         },
         {
          "font": {
           "size": 16
          },
          "showarrow": false,
          "text": "2021",
          "textangle": -90,
          "x": 0.08125,
          "xanchor": "center",
          "xref": "paper",
          "xshift": -75,
          "y": 0.24924999999999997,
          "yanchor": "bottom",
          "yref": "paper",
          "yshift": -60
         },
         {
          "font": {
           "size": 16
          },
          "showarrow": false,
          "text": "2022",
          "textangle": -90,
          "x": 0.08125,
          "xanchor": "center",
          "xref": "paper",
          "xshift": -75,
          "y": 0.124125,
          "yanchor": "bottom",
          "yref": "paper",
          "yshift": -60
         }
        ],
        "coloraxis": {
         "colorscale": [
          [
           0,
           "#00224e"
          ],
          [
           0.1111111111111111,
           "#123570"
          ],
          [
           0.2222222222222222,
           "#3b496c"
          ],
          [
           0.3333333333333333,
           "#575d6d"
          ],
          [
           0.4444444444444444,
           "#707173"
          ],
          [
           0.5555555555555556,
           "#8a8678"
          ],
          [
           0.6666666666666666,
           "#a59c74"
          ],
          [
           0.7777777777777778,
           "#c3b369"
          ],
          [
           0.8888888888888888,
           "#e1cc55"
          ],
          [
           1,
           "#fee838"
          ]
         ]
        },
        "geo": {
         "domain": {
          "x": [
           0,
           0.1625
          ],
          "y": [
           0.8758750000000001,
           1
          ]
         },
         "fitbounds": "locations"
        },
        "geo10": {
         "domain": {
          "x": [
           0.5025000000000001,
           0.665
          ],
          "y": [
           0.75075,
           0.8748750000000001
          ]
         },
         "fitbounds": "locations"
        },
        "geo11": {
         "domain": {
          "x": [
           0.67,
           0.8325
          ],
          "y": [
           0.75075,
           0.8748750000000001
          ]
         },
         "fitbounds": "locations"
        },
        "geo12": {
         "domain": {
          "x": [
           0.8375,
           1
          ],
          "y": [
           0.75075,
           0.8748750000000001
          ]
         },
         "fitbounds": "locations"
        },
        "geo13": {
         "domain": {
          "x": [
           0,
           0.1625
          ],
          "y": [
           0.625625,
           0.74975
          ]
         },
         "fitbounds": "locations"
        },
        "geo14": {
         "domain": {
          "x": [
           0.1675,
           0.33
          ],
          "y": [
           0.625625,
           0.74975
          ]
         },
         "fitbounds": "locations"
        },
        "geo15": {
         "domain": {
          "x": [
           0.335,
           0.49750000000000005
          ],
          "y": [
           0.625625,
           0.74975
          ]
         },
         "fitbounds": "locations"
        },
        "geo16": {
         "domain": {
          "x": [
           0.5025000000000001,
           0.665
          ],
          "y": [
           0.625625,
           0.74975
          ]
         },
         "fitbounds": "locations"
        },
        "geo17": {
         "domain": {
          "x": [
           0.67,
           0.8325
          ],
          "y": [
           0.625625,
           0.74975
          ]
         },
         "fitbounds": "locations"
        },
        "geo18": {
         "domain": {
          "x": [
           0.8375,
           1
          ],
          "y": [
           0.625625,
           0.74975
          ]
         },
         "fitbounds": "locations"
        },
        "geo19": {
         "domain": {
          "x": [
           0,
           0.1625
          ],
          "y": [
           0.5005,
           0.624625
          ]
         },
         "fitbounds": "locations"
        },
        "geo2": {
         "domain": {
          "x": [
           0.1675,
           0.33
          ],
          "y": [
           0.8758750000000001,
           1
          ]
         },
         "fitbounds": "locations"
        },
        "geo20": {
         "domain": {
          "x": [
           0.1675,
           0.33
          ],
          "y": [
           0.5005,
           0.624625
          ]
         },
         "fitbounds": "locations"
        },
        "geo21": {
         "domain": {
          "x": [
           0.335,
           0.49750000000000005
          ],
          "y": [
           0.5005,
           0.624625
          ]
         },
         "fitbounds": "locations"
        },
        "geo22": {
         "domain": {
          "x": [
           0.5025000000000001,
           0.665
          ],
          "y": [
           0.5005,
           0.624625
          ]
         },
         "fitbounds": "locations"
        },
        "geo23": {
         "domain": {
          "x": [
           0.67,
           0.8325
          ],
          "y": [
           0.5005,
           0.624625
          ]
         },
         "fitbounds": "locations"
        },
        "geo24": {
         "domain": {
          "x": [
           0.8375,
           1
          ],
          "y": [
           0.5005,
           0.624625
          ]
         },
         "fitbounds": "locations"
        },
        "geo25": {
         "domain": {
          "x": [
           0,
           0.1625
          ],
          "y": [
           0.375375,
           0.4995
          ]
         },
         "fitbounds": "locations"
        },
        "geo26": {
         "domain": {
          "x": [
           0.1675,
           0.33
          ],
          "y": [
           0.375375,
           0.4995
          ]
         },
         "fitbounds": "locations"
        },
        "geo27": {
         "domain": {
          "x": [
           0.335,
           0.49750000000000005
          ],
          "y": [
           0.375375,
           0.4995
          ]
         },
         "fitbounds": "locations"
        },
        "geo28": {
         "domain": {
          "x": [
           0.5025000000000001,
           0.665
          ],
          "y": [
           0.375375,
           0.4995
          ]
         },
         "fitbounds": "locations"
        },
        "geo29": {
         "domain": {
          "x": [
           0.67,
           0.8325
          ],
          "y": [
           0.375375,
           0.4995
          ]
         },
         "fitbounds": "locations"
        },
        "geo3": {
         "domain": {
          "x": [
           0.335,
           0.49750000000000005
          ],
          "y": [
           0.8758750000000001,
           1
          ]
         },
         "fitbounds": "locations"
        },
        "geo30": {
         "domain": {
          "x": [
           0.8375,
           1
          ],
          "y": [
           0.375375,
           0.4995
          ]
         },
         "fitbounds": "locations"
        },
        "geo31": {
         "domain": {
          "x": [
           0,
           0.1625
          ],
          "y": [
           0.25025,
           0.37437499999999996
          ]
         },
         "fitbounds": "locations"
        },
        "geo32": {
         "domain": {
          "x": [
           0.1675,
           0.33
          ],
          "y": [
           0.25025,
           0.37437499999999996
          ]
         },
         "fitbounds": "locations"
        },
        "geo33": {
         "domain": {
          "x": [
           0.335,
           0.49750000000000005
          ],
          "y": [
           0.25025,
           0.37437499999999996
          ]
         },
         "fitbounds": "locations"
        },
        "geo34": {
         "domain": {
          "x": [
           0.5025000000000001,
           0.665
          ],
          "y": [
           0.25025,
           0.37437499999999996
          ]
         },
         "fitbounds": "locations"
        },
        "geo35": {
         "domain": {
          "x": [
           0.67,
           0.8325
          ],
          "y": [
           0.25025,
           0.37437499999999996
          ]
         },
         "fitbounds": "locations"
        },
        "geo36": {
         "domain": {
          "x": [
           0.8375,
           1
          ],
          "y": [
           0.25025,
           0.37437499999999996
          ]
         },
         "fitbounds": "locations"
        },
        "geo37": {
         "domain": {
          "x": [
           0,
           0.1625
          ],
          "y": [
           0.125125,
           0.24924999999999997
          ]
         },
         "fitbounds": "locations"
        },
        "geo38": {
         "domain": {
          "x": [
           0.1675,
           0.33
          ],
          "y": [
           0.125125,
           0.24924999999999997
          ]
         },
         "fitbounds": "locations"
        },
        "geo39": {
         "domain": {
          "x": [
           0.335,
           0.49750000000000005
          ],
          "y": [
           0.125125,
           0.24924999999999997
          ]
         },
         "fitbounds": "locations"
        },
        "geo4": {
         "domain": {
          "x": [
           0.5025000000000001,
           0.665
          ],
          "y": [
           0.8758750000000001,
           1
          ]
         },
         "fitbounds": "locations"
        },
        "geo40": {
         "domain": {
          "x": [
           0.5025000000000001,
           0.665
          ],
          "y": [
           0.125125,
           0.24924999999999997
          ]
         },
         "fitbounds": "locations"
        },
        "geo41": {
         "domain": {
          "x": [
           0.67,
           0.8325
          ],
          "y": [
           0.125125,
           0.24924999999999997
          ]
         },
         "fitbounds": "locations"
        },
        "geo42": {
         "domain": {
          "x": [
           0.8375,
           1
          ],
          "y": [
           0.125125,
           0.24924999999999997
          ]
         },
         "fitbounds": "locations"
        },
        "geo43": {
         "domain": {
          "x": [
           0,
           0.1625
          ],
          "y": [
           0,
           0.124125
          ]
         },
         "fitbounds": "locations"
        },
        "geo44": {
         "domain": {
          "x": [
           0.1675,
           0.33
          ],
          "y": [
           0,
           0.124125
          ]
         },
         "fitbounds": "locations"
        },
        "geo45": {
         "domain": {
          "x": [
           0.335,
           0.49750000000000005
          ],
          "y": [
           0,
           0.124125
          ]
         },
         "fitbounds": "locations"
        },
        "geo46": {
         "domain": {
          "x": [
           0.5025000000000001,
           0.665
          ],
          "y": [
           0,
           0.124125
          ]
         },
         "fitbounds": "locations"
        },
        "geo47": {
         "domain": {
          "x": [
           0.67,
           0.8325
          ],
          "y": [
           0,
           0.124125
          ]
         },
         "fitbounds": "locations"
        },
        "geo48": {
         "domain": {
          "x": [
           0.8375,
           1
          ],
          "y": [
           0,
           0.124125
          ]
         },
         "fitbounds": "locations"
        },
        "geo5": {
         "domain": {
          "x": [
           0.67,
           0.8325
          ],
          "y": [
           0.8758750000000001,
           1
          ]
         },
         "fitbounds": "locations"
        },
        "geo6": {
         "domain": {
          "x": [
           0.8375,
           1
          ],
          "y": [
           0.8758750000000001,
           1
          ]
         },
         "fitbounds": "locations"
        },
        "geo7": {
         "domain": {
          "x": [
           0,
           0.1625
          ],
          "y": [
           0.75075,
           0.8748750000000001
          ]
         },
         "fitbounds": "locations"
        },
        "geo8": {
         "domain": {
          "x": [
           0.1675,
           0.33
          ],
          "y": [
           0.75075,
           0.8748750000000001
          ]
         },
         "fitbounds": "locations"
        },
        "geo9": {
         "domain": {
          "x": [
           0.335,
           0.49750000000000005
          ],
          "y": [
           0.75075,
           0.8748750000000001
          ]
         },
         "fitbounds": "locations"
        },
        "height": 800,
        "paper_bgcolor": "rgba(0,0,0,0)",
        "template": {
         "data": {
          "bar": [
           {
            "error_x": {
             "color": "#2a3f5f"
            },
            "error_y": {
             "color": "#2a3f5f"
            },
            "marker": {
             "line": {
              "color": "#E5ECF6",
              "width": 0.5
             },
             "pattern": {
              "fillmode": "overlay",
              "size": 10,
              "solidity": 0.2
             }
            },
            "type": "bar"
           }
          ],
          "barpolar": [
           {
            "marker": {
             "line": {
              "color": "#E5ECF6",
              "width": 0.5
             },
             "pattern": {
              "fillmode": "overlay",
              "size": 10,
              "solidity": 0.2
             }
            },
            "type": "barpolar"
           }
          ],
          "carpet": [
           {
            "aaxis": {
             "endlinecolor": "#2a3f5f",
             "gridcolor": "white",
             "linecolor": "white",
             "minorgridcolor": "white",
             "startlinecolor": "#2a3f5f"
            },
            "baxis": {
             "endlinecolor": "#2a3f5f",
             "gridcolor": "white",
             "linecolor": "white",
             "minorgridcolor": "white",
             "startlinecolor": "#2a3f5f"
            },
            "type": "carpet"
           }
          ],
          "choropleth": [
           {
            "colorbar": {
             "outlinewidth": 0,
             "ticks": ""
            },
            "type": "choropleth"
           }
          ],
          "contour": [
           {
            "colorbar": {
             "outlinewidth": 0,
             "ticks": ""
            },
            "colorscale": [
             [
              0,
              "#0d0887"
             ],
             [
              0.1111111111111111,
              "#46039f"
             ],
             [
              0.2222222222222222,
              "#7201a8"
             ],
             [
              0.3333333333333333,
              "#9c179e"
             ],
             [
              0.4444444444444444,
              "#bd3786"
             ],
             [
              0.5555555555555556,
              "#d8576b"
             ],
             [
              0.6666666666666666,
              "#ed7953"
             ],
             [
              0.7777777777777778,
              "#fb9f3a"
             ],
             [
              0.8888888888888888,
              "#fdca26"
             ],
             [
              1,
              "#f0f921"
             ]
            ],
            "type": "contour"
           }
          ],
          "contourcarpet": [
           {
            "colorbar": {
             "outlinewidth": 0,
             "ticks": ""
            },
            "type": "contourcarpet"
           }
          ],
          "heatmap": [
           {
            "colorbar": {
             "outlinewidth": 0,
             "ticks": ""
            },
            "colorscale": [
             [
              0,
              "#0d0887"
             ],
             [
              0.1111111111111111,
              "#46039f"
             ],
             [
              0.2222222222222222,
              "#7201a8"
             ],
             [
              0.3333333333333333,
              "#9c179e"
             ],
             [
              0.4444444444444444,
              "#bd3786"
             ],
             [
              0.5555555555555556,
              "#d8576b"
             ],
             [
              0.6666666666666666,
              "#ed7953"
             ],
             [
              0.7777777777777778,
              "#fb9f3a"
             ],
             [
              0.8888888888888888,
              "#fdca26"
             ],
             [
              1,
              "#f0f921"
             ]
            ],
            "type": "heatmap"
           }
          ],
          "heatmapgl": [
           {
            "colorbar": {
             "outlinewidth": 0,
             "ticks": ""
            },
            "colorscale": [
             [
              0,
              "#0d0887"
             ],
             [
              0.1111111111111111,
              "#46039f"
             ],
             [
              0.2222222222222222,
              "#7201a8"
             ],
             [
              0.3333333333333333,
              "#9c179e"
             ],
             [
              0.4444444444444444,
              "#bd3786"
             ],
             [
              0.5555555555555556,
              "#d8576b"
             ],
             [
              0.6666666666666666,
              "#ed7953"
             ],
             [
              0.7777777777777778,
              "#fb9f3a"
             ],
             [
              0.8888888888888888,
              "#fdca26"
             ],
             [
              1,
              "#f0f921"
             ]
            ],
            "type": "heatmapgl"
           }
          ],
          "histogram": [
           {
            "marker": {
             "pattern": {
              "fillmode": "overlay",
              "size": 10,
              "solidity": 0.2
             }
            },
            "type": "histogram"
           }
          ],
          "histogram2d": [
           {
            "colorbar": {
             "outlinewidth": 0,
             "ticks": ""
            },
            "colorscale": [
             [
              0,
              "#0d0887"
             ],
             [
              0.1111111111111111,
              "#46039f"
             ],
             [
              0.2222222222222222,
              "#7201a8"
             ],
             [
              0.3333333333333333,
              "#9c179e"
             ],
             [
              0.4444444444444444,
              "#bd3786"
             ],
             [
              0.5555555555555556,
              "#d8576b"
             ],
             [
              0.6666666666666666,
              "#ed7953"
             ],
             [
              0.7777777777777778,
              "#fb9f3a"
             ],
             [
              0.8888888888888888,
              "#fdca26"
             ],
             [
              1,
              "#f0f921"
             ]
            ],
            "type": "histogram2d"
           }
          ],
          "histogram2dcontour": [
           {
            "colorbar": {
             "outlinewidth": 0,
             "ticks": ""
            },
            "colorscale": [
             [
              0,
              "#0d0887"
             ],
             [
              0.1111111111111111,
              "#46039f"
             ],
             [
              0.2222222222222222,
              "#7201a8"
             ],
             [
              0.3333333333333333,
              "#9c179e"
             ],
             [
              0.4444444444444444,
              "#bd3786"
             ],
             [
              0.5555555555555556,
              "#d8576b"
             ],
             [
              0.6666666666666666,
              "#ed7953"
             ],
             [
              0.7777777777777778,
              "#fb9f3a"
             ],
             [
              0.8888888888888888,
              "#fdca26"
             ],
             [
              1,
              "#f0f921"
             ]
            ],
            "type": "histogram2dcontour"
           }
          ],
          "mesh3d": [
           {
            "colorbar": {
             "outlinewidth": 0,
             "ticks": ""
            },
            "type": "mesh3d"
           }
          ],
          "parcoords": [
           {
            "line": {
             "colorbar": {
              "outlinewidth": 0,
              "ticks": ""
             }
            },
            "type": "parcoords"
           }
          ],
          "pie": [
           {
            "automargin": true,
            "type": "pie"
           }
          ],
          "scatter": [
           {
            "fillpattern": {
             "fillmode": "overlay",
             "size": 10,
             "solidity": 0.2
            },
            "type": "scatter"
           }
          ],
          "scatter3d": [
           {
            "line": {
             "colorbar": {
              "outlinewidth": 0,
              "ticks": ""
             }
            },
            "marker": {
             "colorbar": {
              "outlinewidth": 0,
              "ticks": ""
             }
            },
            "type": "scatter3d"
           }
          ],
          "scattercarpet": [
           {
            "marker": {
             "colorbar": {
              "outlinewidth": 0,
              "ticks": ""
             }
            },
            "type": "scattercarpet"
           }
          ],
          "scattergeo": [
           {
            "marker": {
             "colorbar": {
              "outlinewidth": 0,
              "ticks": ""
             }
            },
            "type": "scattergeo"
           }
          ],
          "scattergl": [
           {
            "marker": {
             "colorbar": {
              "outlinewidth": 0,
              "ticks": ""
             }
            },
            "type": "scattergl"
           }
          ],
          "scattermapbox": [
           {
            "marker": {
             "colorbar": {
              "outlinewidth": 0,
              "ticks": ""
             }
            },
            "type": "scattermapbox"
           }
          ],
          "scatterpolar": [
           {
            "marker": {
             "colorbar": {
              "outlinewidth": 0,
              "ticks": ""
             }
            },
            "type": "scatterpolar"
           }
          ],
          "scatterpolargl": [
           {
            "marker": {
             "colorbar": {
              "outlinewidth": 0,
              "ticks": ""
             }
            },
            "type": "scatterpolargl"
           }
          ],
          "scatterternary": [
           {
            "marker": {
             "colorbar": {
              "outlinewidth": 0,
              "ticks": ""
             }
            },
            "type": "scatterternary"
           }
          ],
          "surface": [
           {
            "colorbar": {
             "outlinewidth": 0,
             "ticks": ""
            },
            "colorscale": [
             [
              0,
              "#0d0887"
             ],
             [
              0.1111111111111111,
              "#46039f"
             ],
             [
              0.2222222222222222,
              "#7201a8"
             ],
             [
              0.3333333333333333,
              "#9c179e"
             ],
             [
              0.4444444444444444,
              "#bd3786"
             ],
             [
              0.5555555555555556,
              "#d8576b"
             ],
             [
              0.6666666666666666,
              "#ed7953"
             ],
             [
              0.7777777777777778,
              "#fb9f3a"
             ],
             [
              0.8888888888888888,
              "#fdca26"
             ],
             [
              1,
              "#f0f921"
             ]
            ],
            "type": "surface"
           }
          ],
          "table": [
           {
            "cells": {
             "fill": {
              "color": "#EBF0F8"
             },
             "line": {
              "color": "white"
             }
            },
            "header": {
             "fill": {
              "color": "#C8D4E3"
             },
             "line": {
              "color": "white"
             }
            },
            "type": "table"
           }
          ]
         },
         "layout": {
          "annotationdefaults": {
           "arrowcolor": "#2a3f5f",
           "arrowhead": 0,
           "arrowwidth": 1
          },
          "autotypenumbers": "strict",
          "coloraxis": {
           "colorbar": {
            "outlinewidth": 0,
            "ticks": ""
           }
          },
          "colorscale": {
           "diverging": [
            [
             0,
             "#8e0152"
            ],
            [
             0.1,
             "#c51b7d"
            ],
            [
             0.2,
             "#de77ae"
            ],
            [
             0.3,
             "#f1b6da"
            ],
            [
             0.4,
             "#fde0ef"
            ],
            [
             0.5,
             "#f7f7f7"
            ],
            [
             0.6,
             "#e6f5d0"
            ],
            [
             0.7,
             "#b8e186"
            ],
            [
             0.8,
             "#7fbc41"
            ],
            [
             0.9,
             "#4d9221"
            ],
            [
             1,
             "#276419"
            ]
           ],
           "sequential": [
            [
             0,
             "#0d0887"
            ],
            [
             0.1111111111111111,
             "#46039f"
            ],
            [
             0.2222222222222222,
             "#7201a8"
            ],
            [
             0.3333333333333333,
             "#9c179e"
            ],
            [
             0.4444444444444444,
             "#bd3786"
            ],
            [
             0.5555555555555556,
             "#d8576b"
            ],
            [
             0.6666666666666666,
             "#ed7953"
            ],
            [
             0.7777777777777778,
             "#fb9f3a"
            ],
            [
             0.8888888888888888,
             "#fdca26"
            ],
            [
             1,
             "#f0f921"
            ]
           ],
           "sequentialminus": [
            [
             0,
             "#0d0887"
            ],
            [
             0.1111111111111111,
             "#46039f"
            ],
            [
             0.2222222222222222,
             "#7201a8"
            ],
            [
             0.3333333333333333,
             "#9c179e"
            ],
            [
             0.4444444444444444,
             "#bd3786"
            ],
            [
             0.5555555555555556,
             "#d8576b"
            ],
            [
             0.6666666666666666,
             "#ed7953"
            ],
            [
             0.7777777777777778,
             "#fb9f3a"
            ],
            [
             0.8888888888888888,
             "#fdca26"
            ],
            [
             1,
             "#f0f921"
            ]
           ]
          },
          "colorway": [
           "#636efa",
           "#EF553B",
           "#00cc96",
           "#ab63fa",
           "#FFA15A",
           "#19d3f3",
           "#FF6692",
           "#B6E880",
           "#FF97FF",
           "#FECB52"
          ],
          "font": {
           "color": "#2a3f5f"
          },
          "geo": {
           "bgcolor": "white",
           "lakecolor": "white",
           "landcolor": "#E5ECF6",
           "showlakes": true,
           "showland": true,
           "subunitcolor": "white"
          },
          "hoverlabel": {
           "align": "left"
          },
          "hovermode": "closest",
          "mapbox": {
           "style": "light"
          },
          "paper_bgcolor": "white",
          "plot_bgcolor": "#E5ECF6",
          "polar": {
           "angularaxis": {
            "gridcolor": "white",
            "linecolor": "white",
            "ticks": ""
           },
           "bgcolor": "#E5ECF6",
           "radialaxis": {
            "gridcolor": "white",
            "linecolor": "white",
            "ticks": ""
           }
          },
          "scene": {
           "xaxis": {
            "backgroundcolor": "#E5ECF6",
            "gridcolor": "white",
            "gridwidth": 2,
            "linecolor": "white",
            "showbackground": true,
            "ticks": "",
            "zerolinecolor": "white"
           },
           "yaxis": {
            "backgroundcolor": "#E5ECF6",
            "gridcolor": "white",
            "gridwidth": 2,
            "linecolor": "white",
            "showbackground": true,
            "ticks": "",
            "zerolinecolor": "white"
           },
           "zaxis": {
            "backgroundcolor": "#E5ECF6",
            "gridcolor": "white",
            "gridwidth": 2,
            "linecolor": "white",
            "showbackground": true,
            "ticks": "",
            "zerolinecolor": "white"
           }
          },
          "shapedefaults": {
           "line": {
            "color": "#2a3f5f"
           }
          },
          "ternary": {
           "aaxis": {
            "gridcolor": "white",
            "linecolor": "white",
            "ticks": ""
           },
           "baxis": {
            "gridcolor": "white",
            "linecolor": "white",
            "ticks": ""
           },
           "bgcolor": "#E5ECF6",
           "caxis": {
            "gridcolor": "white",
            "linecolor": "white",
            "ticks": ""
           }
          },
          "title": {
           "x": 0.05
          },
          "xaxis": {
           "automargin": true,
           "gridcolor": "white",
           "linecolor": "white",
           "ticks": "",
           "title": {
            "standoff": 15
           },
           "zerolinecolor": "white",
           "zerolinewidth": 2
          },
          "yaxis": {
           "automargin": true,
           "gridcolor": "white",
           "linecolor": "white",
           "ticks": "",
           "title": {
            "standoff": 15
           },
           "zerolinecolor": "white",
           "zerolinewidth": 2
          }
         }
        },
        "width": 1000
       }
      }
     },
     "metadata": {},
     "output_type": "display_data"
    }
   ],
   "source": [
    "# For this visualization, we just want to group by the region/state and see the total\n",
    "# refrigerated truck volume over time.\n",
    "df_to_vis = monthly_truck_df.groupby(['date', 'Region', 'state_code'])['10,000 LBS'].sum().reset_index()\n",
    "\n",
    "# grab the unique dates, but only every 2nd (month)\n",
    "unique_dates = df_to_vis['date'].unique()[::2]\n",
    "\n",
    "# 1. create the figures\n",
    "figures = [\n",
    "    px.choropleth(\n",
    "        df_to_vis[df_to_vis['date'] == date].dropna(),\n",
    "        locations='state_code',\n",
    "        locationmode='USA-states',\n",
    "        scope='usa',\n",
    "        projection='albers usa',\n",
    "        color='10,000 LBS'\n",
    "    ) \n",
    "    for date in unique_dates\n",
    "]\n",
    "\n",
    "# setup the subplot grid\n",
    "rows, cols = 8, 6\n",
    "fig = make_subplots(\n",
    "    rows=rows, \n",
    "    cols=cols,\n",
    "    horizontal_spacing=0.005,\n",
    "    vertical_spacing=0.001,\n",
    "    specs=[[{'type': 'choropleth'} for col in np.arange(cols)] for row in np.arange(rows)],\n",
    "    \n",
    "    subplot_titles = [\n",
    "        (   # title is year if month is january else ...\n",
    "            date[:4] if date[5:7]=='01' else (\n",
    "                # need to hardcode one of the titles since we cannot get titles for all the months\n",
    "                utils.month_number_to_name(date[5:7]) if date[:4]=='2015' else ('January' if date == '2016-03-31' else \"\")\n",
    "            )\n",
    "        ) \n",
    "        for date in unique_dates\n",
    "    ],\n",
    ")\n",
    "\n",
    "\n",
    "for index, figure in enumerate(figures):\n",
    "    \n",
    "    # from the index of the grid, get the corresponding row and column\n",
    "    row, col = [x[0]+1 for x in np.unravel_index([index], (rows,cols))]\n",
    "    \n",
    "    # 2. break apart each figure into its `data` attribute\n",
    "    small_multiple = figure['data'][0]\n",
    "    \n",
    "    # 3. re-assemble into its individual slot in the subplot grid\n",
    "    fig.append_trace(small_multiple, row=row, col=col)\n",
    "\n",
    "# This method performs automatic zooming to the desired location being plotted.\n",
    "# https://plotly.com/python/map-configuration/#automatic-zooming-or-bounds-fitting\n",
    "fig.update_geos(fitbounds='locations')\n",
    "fig.update_layout(\n",
    "    height=800, \n",
    "    width=1000, \n",
    "    coloraxis=dict(colorscale='cividis'), # Choose color scales from: https://plotly.com/python/builtin-colorscales/\n",
    "    paper_bgcolor='rgba(0,0,0,0)', # transparent background\n",
    ")\n",
    "\n",
    "# for each title, shift positions\n",
    "for i in range(len(fig.layout.annotations)):\n",
    "    \n",
    "    annotation = fig.layout.annotations[i]\n",
    "    \n",
    "    # if the title is numeric, then shift to the left\n",
    "    if annotation['text'].isnumeric():\n",
    "        annotation.update(textangle=-90, xshift=-75, yshift=-60)\n",
    "    # else if special case of January then shift to top left\n",
    "    elif annotation['text'] == 'January':\n",
    "        annotation.update(xshift=-132, yshift=78)\n",
    "\n",
    "fig.show()"
   ]
  },
  {
   "attachments": {},
   "cell_type": "markdown",
   "metadata": {},
   "source": [
    "First, notice the accented yellow hues that indicate a high value of total refrigerated truck volume. Immediately, we notice two trends:\n",
    "1. California is consistently the overwhelming leader in total refrigerated truck volume compared to the other states and\n",
    "2. California backs down during the non-summer months indicating a seasonal/periodical trend.\n",
    "\n",
    "Now that we have taken a good look at the refrigerated truck volume data set, let's continue our downstream analysis on observing the bivaraite relationships between the refrigerated truck volumes, COVID-19 cases, and fruit prices."
   ]
  },
  {
   "attachments": {},
   "cell_type": "markdown",
   "metadata": {},
   "source": [
    "## Record Dependencies\n",
    "\n",
    "We list our dependencies at the end of this notebook."
   ]
  },
  {
   "cell_type": "code",
   "execution_count": 1,
   "metadata": {},
   "outputs": [
    {
     "name": "stdout",
     "output_type": "stream",
     "text": [
      "Requirement already satisfied: watermark in c:\\users\\mrquo\\anaconda3\\envs\\geo\\lib\\site-packages (2.3.1)\n",
      "Requirement already satisfied: ipython in c:\\users\\mrquo\\anaconda3\\envs\\geo\\lib\\site-packages (from watermark) (8.4.0)\n",
      "Requirement already satisfied: setuptools>=18.5 in c:\\users\\mrquo\\anaconda3\\envs\\geo\\lib\\site-packages (from ipython->watermark) (61.2.0)\n",
      "Requirement already satisfied: jedi>=0.16 in c:\\users\\mrquo\\anaconda3\\envs\\geo\\lib\\site-packages (from ipython->watermark) (0.18.1)\n",
      "Requirement already satisfied: pygments>=2.4.0 in c:\\users\\mrquo\\anaconda3\\envs\\geo\\lib\\site-packages (from ipython->watermark) (2.11.2)\n",
      "Requirement already satisfied: backcall in c:\\users\\mrquo\\anaconda3\\envs\\geo\\lib\\site-packages (from ipython->watermark) (0.2.0)\n",
      "Requirement already satisfied: prompt-toolkit!=3.0.0,!=3.0.1,<3.1.0,>=2.0.0 in c:\\users\\mrquo\\anaconda3\\envs\\geo\\lib\\site-packages (from ipython->watermark) (3.0.20)\n",
      "Requirement already satisfied: matplotlib-inline in c:\\users\\mrquo\\anaconda3\\envs\\geo\\lib\\site-packages (from ipython->watermark) (0.1.2)\n",
      "Requirement already satisfied: decorator in c:\\users\\mrquo\\anaconda3\\envs\\geo\\lib\\site-packages (from ipython->watermark) (5.1.1)\n",
      "Requirement already satisfied: colorama in c:\\users\\mrquo\\anaconda3\\envs\\geo\\lib\\site-packages (from ipython->watermark) (0.4.5)\n",
      "Requirement already satisfied: stack-data in c:\\users\\mrquo\\anaconda3\\envs\\geo\\lib\\site-packages (from ipython->watermark) (0.2.0)\n",
      "Requirement already satisfied: pickleshare in c:\\users\\mrquo\\anaconda3\\envs\\geo\\lib\\site-packages (from ipython->watermark) (0.7.5)\n",
      "Requirement already satisfied: traitlets>=5 in c:\\users\\mrquo\\anaconda3\\envs\\geo\\lib\\site-packages (from ipython->watermark) (5.1.1)\n",
      "Requirement already satisfied: parso<0.9.0,>=0.8.0 in c:\\users\\mrquo\\anaconda3\\envs\\geo\\lib\\site-packages (from jedi>=0.16->ipython->watermark) (0.8.3)\n",
      "Requirement already satisfied: wcwidth in c:\\users\\mrquo\\anaconda3\\envs\\geo\\lib\\site-packages (from prompt-toolkit!=3.0.0,!=3.0.1,<3.1.0,>=2.0.0->ipython->watermark) (0.2.5)\n",
      "Requirement already satisfied: asttokens in c:\\users\\mrquo\\anaconda3\\envs\\geo\\lib\\site-packages (from stack-data->ipython->watermark) (2.0.5)\n",
      "Requirement already satisfied: executing in c:\\users\\mrquo\\anaconda3\\envs\\geo\\lib\\site-packages (from stack-data->ipython->watermark) (0.8.3)\n",
      "Requirement already satisfied: pure-eval in c:\\users\\mrquo\\anaconda3\\envs\\geo\\lib\\site-packages (from stack-data->ipython->watermark) (0.2.2)\n",
      "Requirement already satisfied: six in c:\\users\\mrquo\\anaconda3\\envs\\geo\\lib\\site-packages (from asttokens->stack-data->ipython->watermark) (1.16.0)\n"
     ]
    }
   ],
   "source": [
    "import sys\n",
    "!{sys.executable} -m pip install watermark"
   ]
  },
  {
   "cell_type": "code",
   "execution_count": 3,
   "metadata": {},
   "outputs": [
    {
     "name": "stdout",
     "output_type": "stream",
     "text": [
      "The watermark extension is already loaded. To reload it, use:\n",
      "  %reload_ext watermark\n",
      "Python implementation: CPython\n",
      "Python version       : 3.9.12\n",
      "IPython version      : 8.4.0\n",
      "\n",
      "numpy         : 1.21.5\n",
      "pandas        : 1.4.3\n",
      "matplotlib    : 3.5.1\n",
      "plotly.express: 0.4.1\n",
      "\n",
      "Compiler    : MSC v.1916 64 bit (AMD64)\n",
      "OS          : Windows\n",
      "Release     : 10\n",
      "Machine     : AMD64\n",
      "Processor   : AMD64 Family 25 Model 33 Stepping 0, AuthenticAMD\n",
      "CPU cores   : 12\n",
      "Architecture: 64bit\n",
      "\n"
     ]
    }
   ],
   "source": [
    "%load_ext watermark\n",
    "%watermark -v -m -p numpy,pandas,matplotlib,plotly.express"
   ]
  },
  {
   "cell_type": "code",
   "execution_count": null,
   "metadata": {},
   "outputs": [],
   "source": []
  }
 ],
 "metadata": {
  "kernelspec": {
   "display_name": "geo",
   "language": "python",
   "name": "python3"
  },
  "language_info": {
   "codemirror_mode": {
    "name": "ipython",
    "version": 3
   },
   "file_extension": ".py",
   "mimetype": "text/x-python",
   "name": "python",
   "nbconvert_exporter": "python",
   "pygments_lexer": "ipython3",
   "version": "3.9.12"
  },
  "orig_nbformat": 4,
  "vscode": {
   "interpreter": {
    "hash": "3618aecafb9d5a6e270fca07a62f26d4c0e91d67b4563063ddc7ff6e0740fc3c"
   }
  }
 },
 "nbformat": 4,
 "nbformat_minor": 2
}
