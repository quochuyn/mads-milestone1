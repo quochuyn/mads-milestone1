{
 "cells": [
  {
   "cell_type": "markdown",
   "id": "fcbb68ee",
   "metadata": {},
   "source": [
    "## Introduction\n",
    "\n",
    "The project requirements asks us to conduct analysis on two or more data sets after their merging. One powerful method for understanding the bivariate relationships of important variables is a SPLOM visualization which is further explained later on. This gives a quick glance on the overall distribution of the data and any signs of linear trends.\n",
    "\n",
    "This notebook (2/3) explores the bivariate relationships between the refrigerated truck volumes, COVID-19 cases, and the fruit price."
   ]
  },
  {
   "cell_type": "code",
   "execution_count": 1,
   "id": "082bcb0d",
   "metadata": {},
   "outputs": [],
   "source": [
    "# import data science packages\n",
    "import numpy as np\n",
    "import pandas as pd\n",
    "\n",
    "# import visualization packages\n",
    "import matplotlib.pyplot as plt\n",
    "%matplotlib inline\n",
    "\n",
    "# import custom packages\n",
    "import datasets\n",
    "import utils"
   ]
  },
  {
   "cell_type": "markdown",
   "id": "b1f8d2cb",
   "metadata": {},
   "source": [
    "## Import Data\n",
    "First, we need to import the other data sets on the refrigerated truck volume and COVID-19 cases."
   ]
  },
  {
   "cell_type": "code",
   "execution_count": 2,
   "id": "fac56290",
   "metadata": {},
   "outputs": [
    {
     "data": {
      "text/html": [
       "<div>\n",
       "<style scoped>\n",
       "    .dataframe tbody tr th:only-of-type {\n",
       "        vertical-align: middle;\n",
       "    }\n",
       "\n",
       "    .dataframe tbody tr th {\n",
       "        vertical-align: top;\n",
       "    }\n",
       "\n",
       "    .dataframe thead th {\n",
       "        text-align: right;\n",
       "    }\n",
       "</style>\n",
       "<table border=\"1\" class=\"dataframe\">\n",
       "  <thead>\n",
       "    <tr style=\"text-align: right;\">\n",
       "      <th></th>\n",
       "      <th>date_updated</th>\n",
       "      <th>state</th>\n",
       "      <th>start_date</th>\n",
       "      <th>end_date</th>\n",
       "      <th>tot_cases</th>\n",
       "      <th>new_cases</th>\n",
       "      <th>tot_deaths</th>\n",
       "      <th>new_deaths</th>\n",
       "      <th>new_historic_cases</th>\n",
       "      <th>new_historic_deaths</th>\n",
       "    </tr>\n",
       "  </thead>\n",
       "  <tbody>\n",
       "    <tr>\n",
       "      <th>0</th>\n",
       "      <td>2020-01-23</td>\n",
       "      <td>AK</td>\n",
       "      <td>2020-01-16</td>\n",
       "      <td>2020-01-22</td>\n",
       "      <td>0</td>\n",
       "      <td>0</td>\n",
       "      <td>0</td>\n",
       "      <td>0</td>\n",
       "      <td>0</td>\n",
       "      <td>0</td>\n",
       "    </tr>\n",
       "    <tr>\n",
       "      <th>1</th>\n",
       "      <td>2020-01-30</td>\n",
       "      <td>AK</td>\n",
       "      <td>2020-01-23</td>\n",
       "      <td>2020-01-29</td>\n",
       "      <td>0</td>\n",
       "      <td>0</td>\n",
       "      <td>0</td>\n",
       "      <td>0</td>\n",
       "      <td>0</td>\n",
       "      <td>0</td>\n",
       "    </tr>\n",
       "    <tr>\n",
       "      <th>2</th>\n",
       "      <td>2020-02-06</td>\n",
       "      <td>AK</td>\n",
       "      <td>2020-01-30</td>\n",
       "      <td>2020-02-05</td>\n",
       "      <td>0</td>\n",
       "      <td>0</td>\n",
       "      <td>0</td>\n",
       "      <td>0</td>\n",
       "      <td>0</td>\n",
       "      <td>0</td>\n",
       "    </tr>\n",
       "    <tr>\n",
       "      <th>3</th>\n",
       "      <td>2020-02-13</td>\n",
       "      <td>AK</td>\n",
       "      <td>2020-02-06</td>\n",
       "      <td>2020-02-12</td>\n",
       "      <td>0</td>\n",
       "      <td>0</td>\n",
       "      <td>0</td>\n",
       "      <td>0</td>\n",
       "      <td>0</td>\n",
       "      <td>0</td>\n",
       "    </tr>\n",
       "    <tr>\n",
       "      <th>4</th>\n",
       "      <td>2020-02-20</td>\n",
       "      <td>AK</td>\n",
       "      <td>2020-02-13</td>\n",
       "      <td>2020-02-19</td>\n",
       "      <td>0</td>\n",
       "      <td>0</td>\n",
       "      <td>0</td>\n",
       "      <td>0</td>\n",
       "      <td>0</td>\n",
       "      <td>0</td>\n",
       "    </tr>\n",
       "    <tr>\n",
       "      <th>...</th>\n",
       "      <td>...</td>\n",
       "      <td>...</td>\n",
       "      <td>...</td>\n",
       "      <td>...</td>\n",
       "      <td>...</td>\n",
       "      <td>...</td>\n",
       "      <td>...</td>\n",
       "      <td>...</td>\n",
       "      <td>...</td>\n",
       "      <td>...</td>\n",
       "    </tr>\n",
       "    <tr>\n",
       "      <th>9355</th>\n",
       "      <td>2022-12-15</td>\n",
       "      <td>WY</td>\n",
       "      <td>2022-12-08</td>\n",
       "      <td>2022-12-14</td>\n",
       "      <td>182198</td>\n",
       "      <td>503</td>\n",
       "      <td>1950</td>\n",
       "      <td>12</td>\n",
       "      <td>0</td>\n",
       "      <td>0</td>\n",
       "    </tr>\n",
       "    <tr>\n",
       "      <th>9356</th>\n",
       "      <td>2022-12-22</td>\n",
       "      <td>WY</td>\n",
       "      <td>2022-12-15</td>\n",
       "      <td>2022-12-21</td>\n",
       "      <td>182581</td>\n",
       "      <td>383</td>\n",
       "      <td>1958</td>\n",
       "      <td>8</td>\n",
       "      <td>0</td>\n",
       "      <td>0</td>\n",
       "    </tr>\n",
       "    <tr>\n",
       "      <th>9357</th>\n",
       "      <td>2022-12-29</td>\n",
       "      <td>WY</td>\n",
       "      <td>2022-12-22</td>\n",
       "      <td>2022-12-28</td>\n",
       "      <td>182847</td>\n",
       "      <td>266</td>\n",
       "      <td>1958</td>\n",
       "      <td>0</td>\n",
       "      <td>0</td>\n",
       "      <td>0</td>\n",
       "    </tr>\n",
       "    <tr>\n",
       "      <th>9358</th>\n",
       "      <td>2023-01-05</td>\n",
       "      <td>WY</td>\n",
       "      <td>2022-12-29</td>\n",
       "      <td>2023-01-04</td>\n",
       "      <td>183151</td>\n",
       "      <td>304</td>\n",
       "      <td>1958</td>\n",
       "      <td>0</td>\n",
       "      <td>0</td>\n",
       "      <td>0</td>\n",
       "    </tr>\n",
       "    <tr>\n",
       "      <th>9359</th>\n",
       "      <td>2023-01-12</td>\n",
       "      <td>WY</td>\n",
       "      <td>2023-01-05</td>\n",
       "      <td>2023-01-11</td>\n",
       "      <td>183385</td>\n",
       "      <td>234</td>\n",
       "      <td>1967</td>\n",
       "      <td>9</td>\n",
       "      <td>0</td>\n",
       "      <td>0</td>\n",
       "    </tr>\n",
       "  </tbody>\n",
       "</table>\n",
       "<p>9360 rows × 10 columns</p>\n",
       "</div>"
      ],
      "text/plain": [
       "     date_updated state  start_date    end_date  tot_cases  new_cases  \\\n",
       "0      2020-01-23    AK  2020-01-16  2020-01-22          0          0   \n",
       "1      2020-01-30    AK  2020-01-23  2020-01-29          0          0   \n",
       "2      2020-02-06    AK  2020-01-30  2020-02-05          0          0   \n",
       "3      2020-02-13    AK  2020-02-06  2020-02-12          0          0   \n",
       "4      2020-02-20    AK  2020-02-13  2020-02-19          0          0   \n",
       "...           ...   ...         ...         ...        ...        ...   \n",
       "9355   2022-12-15    WY  2022-12-08  2022-12-14     182198        503   \n",
       "9356   2022-12-22    WY  2022-12-15  2022-12-21     182581        383   \n",
       "9357   2022-12-29    WY  2022-12-22  2022-12-28     182847        266   \n",
       "9358   2023-01-05    WY  2022-12-29  2023-01-04     183151        304   \n",
       "9359   2023-01-12    WY  2023-01-05  2023-01-11     183385        234   \n",
       "\n",
       "      tot_deaths  new_deaths  new_historic_cases  new_historic_deaths  \n",
       "0              0           0                   0                    0  \n",
       "1              0           0                   0                    0  \n",
       "2              0           0                   0                    0  \n",
       "3              0           0                   0                    0  \n",
       "4              0           0                   0                    0  \n",
       "...          ...         ...                 ...                  ...  \n",
       "9355        1950          12                   0                    0  \n",
       "9356        1958           8                   0                    0  \n",
       "9357        1958           0                   0                    0  \n",
       "9358        1958           0                   0                    0  \n",
       "9359        1967           9                   0                    0  \n",
       "\n",
       "[9360 rows x 10 columns]"
      ]
     },
     "execution_count": 2,
     "metadata": {},
     "output_type": "execute_result"
    }
   ],
   "source": [
    "# import the COVID-19 data set\n",
    "covid_df = pd.read_csv('data\\Weekly_United_States_COVID-19_Cases_and_Deaths_by_State.csv')\n",
    "covid_df"
   ]
  },
  {
   "cell_type": "code",
   "execution_count": 3,
   "id": "47d3b148",
   "metadata": {},
   "outputs": [],
   "source": [
    "# convert to datetime type\n",
    "for col in ['start_date', 'end_date']:\n",
    "    covid_df.loc[:,col] = pd.to_datetime(covid_df[col], format='%Y-%m-%d')"
   ]
  },
  {
   "cell_type": "markdown",
   "id": "a6f76c7c",
   "metadata": {},
   "source": [
    "We have modularized some methods for importing and cleaning our data sets to reduce redundant code."
   ]
  },
  {
   "cell_type": "code",
   "execution_count": 4,
   "id": "ea7ce1e2",
   "metadata": {},
   "outputs": [
    {
     "name": "stdout",
     "output_type": "stream",
     "text": [
      "The file 'data\\Refrigerated_Truck_Volumes_2015.csv' contains 114836 rows and 14 columns.\n",
      "The file 'data\\Refrigerated_Truck_Volumes_2016.csv' contains 115813 rows and 14 columns.\n",
      "The file 'data\\Refrigerated_Truck_Volumes_2017.csv' contains 115112 rows and 14 columns.\n",
      "The file 'data\\Refrigerated_Truck_Volumes_2018.csv' contains 116071 rows and 14 columns.\n",
      "The file 'data\\Refrigerated_Truck_Volumes_2019.csv' contains 121176 rows and 14 columns.\n",
      "The file 'data\\Refrigerated_Truck_Volumes_2020.csv' contains 129428 rows and 14 columns.\n",
      "The file 'data\\Refrigerated_Truck_Volumes_2021.csv' contains 140029 rows and 14 columns.\n",
      "The file 'data\\Refrigerated_Truck_Volumes_2022.csv' contains 137708 rows and 14 columns.\n",
      "The full data frame contains 990173 rows and 14 columns.\n",
      "The cleaned data frame contains 856759 rows and 9 columns.\n"
     ]
    }
   ],
   "source": [
    "# import the refrigerated truck volume data set\n",
    "truck_df = datasets.load_truck_data(start=2015, end=2022, trace=True)\n",
    "\n",
    "# For our analysis, we filter the data frame to only include data for California and Florida.\n",
    "REGIONS = ['California', 'Florida']\n",
    "filtered_truck_df = truck_df[truck_df['Region'].isin(REGIONS).values]\n",
    "\n",
    "# aggregate every week\n",
    "weekly_truck_df = datasets.aggregate_truck_df(filtered_truck_df, rule='1W', trace=True)"
   ]
  },
  {
   "cell_type": "code",
   "execution_count": 5,
   "id": "80f7e417",
   "metadata": {},
   "outputs": [],
   "source": [
    "# fix the naming of some values\n",
    "weekly_truck_df.rename(index=str, columns={'date': 'start_date'}, inplace=True)\n",
    "weekly_truck_df.replace('California', 'CA',inplace=True)\n",
    "weekly_truck_df.replace('Florida', 'FL',inplace=True)"
   ]
  },
  {
   "cell_type": "markdown",
   "id": "de1660cd",
   "metadata": {},
   "source": [
    "Let's now obtain the fruit price data set."
   ]
  },
  {
   "cell_type": "code",
   "execution_count": 6,
   "id": "f386a79f",
   "metadata": {},
   "outputs": [],
   "source": [
    "# import the fruit price data set (in pivot format)\n",
    "fruit_df_pivot = datasets.load_fruit_data(trace=True)"
   ]
  },
  {
   "cell_type": "code",
   "execution_count": 7,
   "id": "d4800bf7",
   "metadata": {},
   "outputs": [],
   "source": [
    "# convert to long format\n",
    "fruit_df = fruit_df_pivot.melt(id_vars=['Commodity'], var_name='date', value_name='price')\n",
    "\n",
    "# convert to datetime type\n",
    "fruit_df.loc[:,'date'] = pd.to_datetime(fruit_df['date'], format='%Y-%m-%d')\n",
    "\n",
    "# clean up the column names\n",
    "fruit_df.rename(index=str, columns={'date': 'start_date'}, inplace=True)\n",
    "fruit_df.replace('Avocados 4/', 'Avocados',inplace=True)\n",
    "fruit_df.replace('Cantaloupes', 'Cantaloupe',inplace=True)\n",
    "fruit_df.replace('Honeydew', 'Honeydews',inplace=True)\n",
    "fruit_df.replace('Melons, mixed', 'Mixed and Misc Melons',inplace=True)\n",
    "fruit_df.replace('Watermelon', 'Watermelons',inplace=True)\n",
    "fruit_df.replace('Watermelon, seeded', 'Watermelons, Seeded',inplace=True)\n",
    "fruit_df.replace('Watermelon, seedless', 'Watermelons, Seedless',inplace=True)\n"
   ]
  },
  {
   "cell_type": "code",
   "execution_count": 8,
   "id": "0f1dbda6",
   "metadata": {},
   "outputs": [
    {
     "data": {
      "text/html": [
       "<div>\n",
       "<style scoped>\n",
       "    .dataframe tbody tr th:only-of-type {\n",
       "        vertical-align: middle;\n",
       "    }\n",
       "\n",
       "    .dataframe tbody tr th {\n",
       "        vertical-align: top;\n",
       "    }\n",
       "\n",
       "    .dataframe thead th {\n",
       "        text-align: right;\n",
       "    }\n",
       "</style>\n",
       "<table border=\"1\" class=\"dataframe\">\n",
       "  <thead>\n",
       "    <tr style=\"text-align: right;\">\n",
       "      <th></th>\n",
       "      <th>Commodity</th>\n",
       "      <th>start_date</th>\n",
       "      <th>price</th>\n",
       "    </tr>\n",
       "  </thead>\n",
       "  <tbody>\n",
       "    <tr>\n",
       "      <th>0</th>\n",
       "      <td>Apples</td>\n",
       "      <td>2022-04-23</td>\n",
       "      <td>1.437777</td>\n",
       "    </tr>\n",
       "    <tr>\n",
       "      <th>1</th>\n",
       "      <td>Avocados</td>\n",
       "      <td>2022-04-23</td>\n",
       "      <td>1.580000</td>\n",
       "    </tr>\n",
       "    <tr>\n",
       "      <th>2</th>\n",
       "      <td>Bananas</td>\n",
       "      <td>2022-04-23</td>\n",
       "      <td>0.520000</td>\n",
       "    </tr>\n",
       "    <tr>\n",
       "      <th>3</th>\n",
       "      <td>Blueberries</td>\n",
       "      <td>2022-04-23</td>\n",
       "      <td>3.020000</td>\n",
       "    </tr>\n",
       "    <tr>\n",
       "      <th>4</th>\n",
       "      <td>Cantaloupe</td>\n",
       "      <td>2022-04-23</td>\n",
       "      <td>0.810000</td>\n",
       "    </tr>\n",
       "    <tr>\n",
       "      <th>...</th>\n",
       "      <td>...</td>\n",
       "      <td>...</td>\n",
       "      <td>...</td>\n",
       "    </tr>\n",
       "    <tr>\n",
       "      <th>2283</th>\n",
       "      <td>Raspberries</td>\n",
       "      <td>2020-05-02</td>\n",
       "      <td>2.270000</td>\n",
       "    </tr>\n",
       "    <tr>\n",
       "      <th>2284</th>\n",
       "      <td>Strawberries</td>\n",
       "      <td>2020-05-02</td>\n",
       "      <td>2.540000</td>\n",
       "    </tr>\n",
       "    <tr>\n",
       "      <th>2285</th>\n",
       "      <td>Watermelons</td>\n",
       "      <td>2020-05-02</td>\n",
       "      <td>NaN</td>\n",
       "    </tr>\n",
       "    <tr>\n",
       "      <th>2286</th>\n",
       "      <td>Watermelons, Seeded</td>\n",
       "      <td>2020-05-02</td>\n",
       "      <td>0.270000</td>\n",
       "    </tr>\n",
       "    <tr>\n",
       "      <th>2287</th>\n",
       "      <td>Watermelons, Seedless</td>\n",
       "      <td>2020-05-02</td>\n",
       "      <td>0.450000</td>\n",
       "    </tr>\n",
       "  </tbody>\n",
       "</table>\n",
       "<p>2288 rows × 3 columns</p>\n",
       "</div>"
      ],
      "text/plain": [
       "                  Commodity start_date     price\n",
       "0                    Apples 2022-04-23  1.437777\n",
       "1                  Avocados 2022-04-23  1.580000\n",
       "2                   Bananas 2022-04-23  0.520000\n",
       "3               Blueberries 2022-04-23  3.020000\n",
       "4                Cantaloupe 2022-04-23  0.810000\n",
       "...                     ...        ...       ...\n",
       "2283            Raspberries 2020-05-02  2.270000\n",
       "2284           Strawberries 2020-05-02  2.540000\n",
       "2285            Watermelons 2020-05-02       NaN\n",
       "2286    Watermelons, Seeded 2020-05-02  0.270000\n",
       "2287  Watermelons, Seedless 2020-05-02  0.450000\n",
       "\n",
       "[2288 rows x 3 columns]"
      ]
     },
     "execution_count": 8,
     "metadata": {},
     "output_type": "execute_result"
    }
   ],
   "source": [
    "fruit_df"
   ]
  },
  {
   "cell_type": "code",
   "execution_count": 9,
   "id": "587930f1",
   "metadata": {},
   "outputs": [],
   "source": [
    "df1 = covid_df.merge(weekly_truck_df, how='cross')\n",
    "df1 = df1.query(\"start_date_y >= start_date_x & start_date_y <= end_date & Region == state\")\n",
    "df2 = covid_df.merge(fruit_df, how='cross')\n",
    "df2 = df2.query(\"start_date_y >= start_date_x & start_date_y <= end_date\")"
   ]
  },
  {
   "cell_type": "code",
   "execution_count": 10,
   "id": "588b271c",
   "metadata": {},
   "outputs": [],
   "source": [
    "truck = df1.loc[:,['start_date_x','new_cases','Commodity','10,000 LBS']]\n",
    "price = df2.loc[:,['start_date_x','Commodity','price']]\n",
    "df = pd.merge(truck,price)"
   ]
  },
  {
   "cell_type": "markdown",
   "id": "66a022bd",
   "metadata": {},
   "source": [
    "## SPLOM Visualization\n",
    "\n",
    "A SPLOM is a visualization technique that showcases bivariate relationships in a matrix format. In particular, we are exploring linear relationships between the refrigerated truck volumes, COVID-19 cases, and the fruit price. With these linear relationships, we also create best line of fits to check for any strong correlations. We decide to use [matplotlib](https://matplotlib.org/3.5.3/api/_as_gen/matplotlib.pyplot.html) for this visualization."
   ]
  },
  {
   "cell_type": "code",
   "execution_count": 11,
   "id": "6f75f185",
   "metadata": {
    "scrolled": true
   },
   "outputs": [
    {
     "name": "stderr",
     "output_type": "stream",
     "text": [
      "C:\\Users\\mrquo\\AppData\\Local\\Temp\\ipykernel_11916\\905072245.py:30: UserWarning: Matplotlib is currently using module://matplotlib_inline.backend_inline, which is a non-GUI backend, so cannot show the figure.\n",
      "  fig.show()\n"
     ]
    },
    {
     "data": {
      "image/png": "[encoded data removed]",
      "text/plain": [
       "<Figure size 432x288 with 9 Axes>"
      ]
     },
     "metadata": {},
     "output_type": "display_data"
    }
   ],
   "source": [
    "fig, axs = plt.subplots(3, 3)\n",
    "\n",
    "variables = ['new_cases','10,000 LBS','price']\n",
    "\n",
    "for i in range(3):\n",
    "    for j in range(3):\n",
    "        if j != i:\n",
    "            sub = df.loc[:,[variables[i],variables[j]]]\n",
    "            sub.dropna(inplace=True)\n",
    "            x = sub.loc[:,variables[i]]\n",
    "            y = sub.loc[:,variables[j]]\n",
    "            axs[i,j].scatter(x, y, s=1)\n",
    "            m, b = np.polyfit(x, y, 1)\n",
    "            axs[i,j].plot(x, m*x+b, color='red')\n",
    "            \n",
    "        axs[i,j].set_xticks([])\n",
    "        axs[i,j].set_yticks([])\n",
    "\n",
    "names = ['New Covid Cases','Truck Volume','Fruit Price']\n",
    "\n",
    "cols = names\n",
    "rows = names\n",
    "\n",
    "for ax, col in zip(axs[0], cols):\n",
    "    ax.set_title(col)\n",
    "\n",
    "for ax, row in zip(axs[:,0], rows):\n",
    "    ax.set_ylabel(row)\n",
    "\n",
    "fig.show()"
   ]
  },
  {
   "cell_type": "markdown",
   "id": "115abe25",
   "metadata": {},
   "source": [
    "We can see that the most obvious correlation is the negative relationship between fruit price and truck volume. Next is the slightly positive correlation between new COVID-19 cases and fruit prices. We barely see any correlation between COVID-19 cases increases and truck volume changes. Since we didn't find much correlation between COVID-19 cases and the other two variables, we decided to look deeper into each variable for their trend."
   ]
  },
  {
   "cell_type": "markdown",
   "id": "e13862ef",
   "metadata": {},
   "source": [
    "## Record Dependencies\n",
    "\n",
    "We list our dependencies at the end of this notebook."
   ]
  },
  {
   "cell_type": "code",
   "execution_count": 12,
   "id": "6deaf003",
   "metadata": {},
   "outputs": [
    {
     "name": "stdout",
     "output_type": "stream",
     "text": [
      "Requirement already satisfied: watermark in c:\\users\\mrquo\\anaconda3\\envs\\geo\\lib\\site-packages (2.3.1)\n",
      "Requirement already satisfied: ipython in c:\\users\\mrquo\\anaconda3\\envs\\geo\\lib\\site-packages (from watermark) (8.4.0)\n",
      "Requirement already satisfied: decorator in c:\\users\\mrquo\\anaconda3\\envs\\geo\\lib\\site-packages (from ipython->watermark) (5.1.1)\n",
      "Requirement already satisfied: pickleshare in c:\\users\\mrquo\\anaconda3\\envs\\geo\\lib\\site-packages (from ipython->watermark) (0.7.5)\n",
      "Requirement already satisfied: prompt-toolkit!=3.0.0,!=3.0.1,<3.1.0,>=2.0.0 in c:\\users\\mrquo\\anaconda3\\envs\\geo\\lib\\site-packages (from ipython->watermark) (3.0.20)\n",
      "Requirement already satisfied: pygments>=2.4.0 in c:\\users\\mrquo\\anaconda3\\envs\\geo\\lib\\site-packages (from ipython->watermark) (2.11.2)\n",
      "Requirement already satisfied: traitlets>=5 in c:\\users\\mrquo\\anaconda3\\envs\\geo\\lib\\site-packages (from ipython->watermark) (5.1.1)\n",
      "Requirement already satisfied: colorama in c:\\users\\mrquo\\anaconda3\\envs\\geo\\lib\\site-packages (from ipython->watermark) (0.4.5)\n",
      "Requirement already satisfied: setuptools>=18.5 in c:\\users\\mrquo\\anaconda3\\envs\\geo\\lib\\site-packages (from ipython->watermark) (61.2.0)\n",
      "Requirement already satisfied: matplotlib-inline in c:\\users\\mrquo\\anaconda3\\envs\\geo\\lib\\site-packages (from ipython->watermark) (0.1.2)\n",
      "Requirement already satisfied: stack-data in c:\\users\\mrquo\\anaconda3\\envs\\geo\\lib\\site-packages (from ipython->watermark) (0.2.0)\n",
      "Requirement already satisfied: backcall in c:\\users\\mrquo\\anaconda3\\envs\\geo\\lib\\site-packages (from ipython->watermark) (0.2.0)\n",
      "Requirement already satisfied: jedi>=0.16 in c:\\users\\mrquo\\anaconda3\\envs\\geo\\lib\\site-packages (from ipython->watermark) (0.18.1)\n",
      "Requirement already satisfied: parso<0.9.0,>=0.8.0 in c:\\users\\mrquo\\anaconda3\\envs\\geo\\lib\\site-packages (from jedi>=0.16->ipython->watermark) (0.8.3)\n",
      "Requirement already satisfied: wcwidth in c:\\users\\mrquo\\anaconda3\\envs\\geo\\lib\\site-packages (from prompt-toolkit!=3.0.0,!=3.0.1,<3.1.0,>=2.0.0->ipython->watermark) (0.2.5)\n",
      "Requirement already satisfied: pure-eval in c:\\users\\mrquo\\anaconda3\\envs\\geo\\lib\\site-packages (from stack-data->ipython->watermark) (0.2.2)\n",
      "Requirement already satisfied: executing in c:\\users\\mrquo\\anaconda3\\envs\\geo\\lib\\site-packages (from stack-data->ipython->watermark) (0.8.3)\n",
      "Requirement already satisfied: asttokens in c:\\users\\mrquo\\anaconda3\\envs\\geo\\lib\\site-packages (from stack-data->ipython->watermark) (2.0.5)\n",
      "Requirement already satisfied: six in c:\\users\\mrquo\\anaconda3\\envs\\geo\\lib\\site-packages (from asttokens->stack-data->ipython->watermark) (1.16.0)\n"
     ]
    }
   ],
   "source": [
    "import sys\n",
    "!{sys.executable} -m pip install watermark"
   ]
  },
  {
   "cell_type": "code",
   "execution_count": 13,
   "id": "23e596fc",
   "metadata": {},
   "outputs": [
    {
     "name": "stdout",
     "output_type": "stream",
     "text": [
      "Python implementation: CPython\n",
      "Python version       : 3.9.12\n",
      "IPython version      : 8.4.0\n",
      "\n",
      "numpy     : 1.21.5\n",
      "pandas    : 1.4.3\n",
      "matplotlib: 3.5.1\n",
      "\n",
      "Compiler    : MSC v.1916 64 bit (AMD64)\n",
      "OS          : Windows\n",
      "Release     : 10\n",
      "Machine     : AMD64\n",
      "Processor   : AMD64 Family 25 Model 33 Stepping 0, AuthenticAMD\n",
      "CPU cores   : 12\n",
      "Architecture: 64bit\n",
      "\n"
     ]
    }
   ],
   "source": [
    "%load_ext watermark\n",
    "%watermark -v -m -p numpy,pandas,matplotlib"
   ]
  }
 ],
 "metadata": {
  "kernelspec": {
   "display_name": "Python 3 (ipykernel)",
   "language": "python",
   "name": "python3"
  },
  "language_info": {
   "codemirror_mode": {
    "name": "ipython",
    "version": 3
   },
   "file_extension": ".py",
   "mimetype": "text/x-python",
   "name": "python",
   "nbconvert_exporter": "python",
   "pygments_lexer": "ipython3",
   "version": "3.9.12"
  },
  "vscode": {
   "interpreter": {
    "hash": "3618aecafb9d5a6e270fca07a62f26d4c0e91d67b4563063ddc7ff6e0740fc3c"
   }
  }
 },
 "nbformat": 4,
 "nbformat_minor": 5
}
